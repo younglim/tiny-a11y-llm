{
  "cells": [
    {
      "cell_type": "markdown",
      "metadata": {},
      "source": [
        "# Tiny A11y Model Fine-tune Notebook\n",
        "This notebook fine-tunes DeepSeek-Coder on WCAG + MDN accessibility datasets.\n",
        "\n",
        "Requirements: Free GPU runtime in Colab."
      ]
    },
    {
      "cell_type": "code",
      "execution_count": null,
      "metadata": {},
      "outputs": [],
      "source": [
        "# Install required packages\n",
        "!pip install --upgrade pip\n",
        "!pip install datasets transformers peft huggingface_hub accelerate"
      ]
    },
    {
      "cell_type": "code",
      "execution_count": null,
      "metadata": {},
      "outputs": [],
      "source": [
        "# Login to Hugging Face Hub\n",
        "from huggingface_hub import notebook_login\n",
        "notebook_login()  # Paste your token when prompted"
      ]
    },
    {
      "cell_type": "code",
      "execution_count": null,
      "metadata": {},
      "outputs": [],
      "source": [
        "# Load dataset from Hugging Face\n",
        "from datasets import load_dataset\n",
        "dataset = load_dataset('younglim/a11y-dataset', split='train')\n",
        "print(dataset[0])"
      ]
    },
    {
      "cell_type": "code",
      "execution_count": null,
      "metadata": {},
      "outputs": [],
      "source": [
        "# Load model and tokenizer\n",
        "from transformers import AutoModelForCausalLM, AutoTokenizer\n",
        "from peft import LoraConfig, get_peft_model\n",
        "\n",
        "model_name = 'deepseek-ai/deepseek-coder-1.3b-instruct'\n",
        "tokenizer = AutoTokenizer.from_pretrained(model_name)\n",
        "model = AutoModelForCausalLM.from_pretrained(model_name)\n",
        "\n",
        "# LoRA config for lightweight fine-tuning\n",
        "peft_config = LoraConfig(r=8, lora_alpha=16, target_modules=['q_proj','v_proj'])\n",
        "model = get_peft_model(model, peft_config)"
      ]
    },
    {
      "cell_type": "code",
      "execution_count": null,
      "metadata": {},
      "outputs": [],
      "source": [
        "# Tokenize dataset\n",
        "def tokenize(example):\n",
        "    return tokenizer(example['text'], truncation=True, padding='max_length', max_length=512)\n",
        "\n",
        "dataset = dataset.map(tokenize, batched=True)"
      ]
    },
    {
      "cell_type": "code",
      "execution_count": null,
      "metadata": {},
      "outputs": [],
      "source": [
        "# Setup Trainer and TrainingArguments\n",
        "from transformers import Trainer, TrainingArguments\n",
        "\n",
        "training_args = TrainingArguments(\n",
        "    output_dir='./results',\n",
        "    per_device_train_batch_size=2,\n",
        "    num_train_epochs=1,\n",
        "    learning_rate=1e-4,\n",
        "    fp16=True,\n",
        "    push_to_hub=True,\n",
        "    hub_model_id='younglim/tiny-a11y-model'\n",
        ")\n",
        "\n",
        "trainer = Trainer(model=model, args=training_args, train_dataset=dataset)"
      ]
    },
    {
      "cell_type": "code",
      "execution_count": null,
      "metadata": {},
      "outputs": [],
      "source": [
        "# Start training\n",
        "trainer.train()"
      ]
    },
    {
      "cell_type": "code",
      "execution_count": null,
      "metadata": {},
      "outputs": [],
      "source": [
        "# Push the fine-tuned model to Hugging Face Hub\n",
        "trainer.push_to_hub()"
      ]
    },
    {
      "cell_type": "markdown",
      "metadata": {},
      "source": [
        "🎉 After running all cells, your fine-tuned Tiny A11y Model will be available at:\n",
        "[https://huggingface.co/younglim/tiny-a11y-model](https://huggingface.co/younglim/tiny-a11y-model)"
      ]
    }
  ],
  "metadata": {
    "colab": {
      "name": "Tiny A11y Model Fine-tune",
      "provenance": []
    },
    "kernelspec": {
      "display_name": "Python 3",
      "language": "python",
      "name": "python3"
    },
    "language_info": {
      "name": "python"
    }
  },
  "nbformat": 4,
  "nbformat_minor": 5
}
