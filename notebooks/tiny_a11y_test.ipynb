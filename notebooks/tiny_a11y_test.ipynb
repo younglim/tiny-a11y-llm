{
  "cells": [
    {
      "cell_type": "markdown",
      "metadata": {},
      "source": [
        "# Tiny A11y Model Interactive Testing\n",
        "This notebook lets you test `younglim/tiny-a11y-model` on various accessibility prompts interactively.\n",
        "\n",
        "Requirements: Free GPU runtime in Colab."
      ]
    },
    {
      "cell_type": "code",
      "execution_count": null,
      "metadata": {},
      "outputs": [],
      "source": [
        "# Install required packages\n",
        "!pip install --upgrade pip\n",
        "!pip install transformers datasets peft huggingface_hub accelerate ipywidgets"
      ]
    },
    {
      "cell_type": "code",
      "execution_count": null,
      "metadata": {},
      "outputs": [],
      "source": [
        "# Login to Hugging Face Hub\n",
        "from huggingface_hub import notebook_login\n",
        "notebook_login()  # Paste your HF token when prompted"
      ]
    },
    {
      "cell_type": "code",
      "execution_count": null,
      "metadata": {},
      "outputs": [],
      "source": [
        "# Load model and tokenizer\n",
        "from transformers import AutoTokenizer, AutoModelForCausalLM\n",
        "from peft import PeftModel\n",
        "\n",
        "model_name = 'younglim/tiny-a11y-model'\n",
        "tokenizer = AutoTokenizer.from_pretrained(model_name)\n",
        "model = AutoModelForCausalLM.from_pretrained(model_name)"
      ]
    },
    {
      "cell_type": "code",
      "execution_count": null,
      "metadata": {},
      "outputs": [],
      "source": [
        "# Define a list of prompts\n",
        "prompts = [\n",
        "    'Explain why alt text is important for images.',\n",
        "    'Give an example of a good label for a button.',\n",
        "    'Explain WCAG 1.4.1 in simple terms.',\n",
        "    'How can developers make accessible tables?',\n",
        "    'Explain ARIA roles for screen readers.'\n",
        "]"
      ]
    },
    {
      "cell_type": "code",
      "execution_count": null,
      "metadata": {},
      "outputs": [],
      "source": [
        "# Interactive dropdown and button\n",
        "import ipywidgets as widgets\n",
        "from IPython.display import display\n",
        "\n",
        "dropdown = widgets.Dropdown(\n",
        "    options=prompts,\n",
        "    description='Prompt:',\n",
        "    style={'description_width': 'initial'},\n",
        "    layout=widgets.Layout(width='80%')\n",
        ")\n",
        "display(dropdown)\n",
        "\n",
        "button = widgets.Button(description='Generate Answer')\n",
        "output = widgets.Output()\n",
        "display(button, output)\n",
        "\n",
        "def on_button_click(b):\n",
        "    with output:\n",
        "        output.clear_output()\n",
        "        selected_prompt = dropdown.value\n",
        "        inputs = tokenizer(selected_prompt, return_tensors='pt')\n",
        "        outputs_ids = model.generate(**inputs, max_new_tokens=150)\n",
        "        print(tokenizer.decode(outputs_ids[0], skip_special_tokens=True))\n",
        "\n",
        "button.on_click(on_button_click)"
      ]
    },
    {
      "cell_type": "markdown",
      "metadata": {},
      "source": [
        "🎉 Use the dropdown to select a prompt and click **Generate Answer** to see your model's response."
      ]
    }
  ],
  "metadata": {
    "colab": {
      "name": "Tiny A11y Model Interactive Test",
      "provenance": []
    },
    "kernelspec": {
      "display_name": "Python 3",
      "language": "python",
      "name": "python3"
    },
    "language_info": {
      "name": "python"
    }
  },
  "nbformat": 4,
  "nbformat_minor": 5
}
