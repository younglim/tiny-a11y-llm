{
  "cells": [
    {
      "cell_type": "markdown",
      "metadata": {},
      "source": [
        "# Test Tiny A11y Model (LoRA)\n",
        "This notebook loads the base DeepSeek-Coder model, applies your LoRA fine-tuned weights (`younglim/tiny-a11y-model`), and lets you test prompts interactively.\n",
        "\n",
        "Requirements: Free GPU runtime in Colab (T4 recommended)."
      ]
    },
    {
      "cell_type": "code",
      "execution_count": null,
      "metadata": {},
      "outputs": [],
      "source": [
        "# Install required packages\n",
        "!pip install --upgrade pip\n",
        "!pip install transformers peft datasets accelerate huggingface_hub"
      ]
    },
    {
      "cell_type": "code",
      "execution_count": null,
      "metadata": {},
      "outputs": [],
      "source": [
        "# Hugging Face login\n",
        "from huggingface_hub import notebook_login\n",
        "notebook_login()  # Paste your HF token when prompted"
      ]
    },
    {
      "cell_type": "code",
      "execution_count": null,
      "metadata": {},
      "outputs": [],
      "source": [
        "# Load base model and LoRA fine-tuned weights\n",
        "from transformers import AutoTokenizer, AutoModelForCausalLM\n",
        "from peft import PeftModel\n",
        "\n",
        "# Base model\n",
        "base_model_name = 'deepseek-ai/deepseek-coder-1.3b-instruct'\n",
        "tokenizer = AutoTokenizer.from_pretrained(base_model_name)\n",
        "base_model = AutoModelForCausalLM.from_pretrained(base_model_name)\n",
        "\n",
        "# Apply LoRA adapter\n",
        "lora_model_name = 'younglim/tiny-a11y-model'\n",
        "model = PeftModel.from_pretrained(base_model, lora_model_name)\n",
        "\n",
        "# Ensure pad_token is set\n",
        "if tokenizer.pad_token is None:\n",
        "    tokenizer.pad_token = tokenizer.eos_token\n"
      ]
    },
    {
      "cell_type": "code",
      "execution_count": null,
      "metadata": {},
      "outputs": [],
      "source": [
        "# Helper function to run the model\n",
        "def ask_model(prompt, max_tokens=150):\n",
        "    inputs = tokenizer(prompt, return_tensors='pt')\n",
        "    outputs = model.generate(\n",
        "        **inputs,\n",
        "        max_new_tokens=max_tokens,\n",
        "        pad_token_id=tokenizer.eos_token_id\n",
        "    )\n",
        "    return tokenizer.decode(outputs[0], skip_special_tokens=True)"
      ]
    },
    {
      "cell_type": "code",
      "execution_count": null,
      "metadata": {},
      "outputs": [],
      "source": [
        "# Example prompt\n",
        "prompt = 'Explain why alt text is important for images.'\n",
        "answer = ask_model(prompt)\n",
        "print('Prompt:', prompt)\n",
        "print('Answer:', answer)"
      ]
    },
    {
      "cell_type": "markdown",
      "metadata": {},
      "source": [
        "✅ You can now replace the prompt above with any accessibility-related question or text you want the Tiny A11y model to answer."
      ]
    }
  ],
  "metadata": {
    "colab": {
      "name": "Test Tiny A11y Model",
      "provenance": []
    },
    "kernelspec": {
      "display_name": "Python 3",
      "language": "python",
      "name": "python3"
    },
    "language_info": {
      "name": "python"
    }
  },
  "nbformat": 4,
  "nbformat_minor": 5
}
