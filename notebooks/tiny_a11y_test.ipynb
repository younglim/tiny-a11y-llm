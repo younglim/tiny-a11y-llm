{
  "cells": [
    {
      "cell_type": "markdown",
      "metadata": {},
      "source": [
        "# Test Tiny A11y LoRA Model\n",
        "This notebook loads your LoRA fine-tuned `younglim/tiny-a11y-model` on DeepSeek-Coder and runs prompts."
      ]
    },
    {
      "cell_type": "code",
      "execution_count": null,
      "metadata": {},
      "outputs": [],
      "source": [
        "# Install required packages\n",
        "!pip install --upgrade pip\n",
        "!pip install transformers accelerate peft"
      ]
    },
    {
      "cell_type": "code",
      "execution_count": null,
      "metadata": {},
      "outputs": [],
      "source": [
        "# Load base model and tokenizer\n",
        "from transformers import AutoTokenizer, AutoModelForCausalLM, pipeline\n",
        "from peft import PeftModel\n",
        "\n",
        "base_model_name = 'deepseek-ai/deepseek-coder-1.3b-instruct'\n",
        "lora_model_name = 'younglim/tiny-a11y-model'\n",
        "\n",
        "tokenizer = AutoTokenizer.from_pretrained(base_model_name, use_fast=True)\n",
        "base_model = AutoModelForCausalLM.from_pretrained(base_model_name, device_map='auto')\n",
        "\n",
        "# Apply LoRA weights\n",
        "model = PeftModel.from_pretrained(base_model, lora_model_name, device_map='auto')"
      ]
    },
    {
      "cell_type": "code",
      "execution_count": null,
      "metadata": {},
      "outputs": [],
      "source": [
        "# Create text-generation pipeline\n",
        "generator = pipeline('text-generation', model=model, tokenizer=tokenizer, device=0)\n",
        "\n",
        "# Example prompt\n",
        "prompt = 'Explain why alt text is important for images.'\n",
        "output = generator(prompt, max_new_tokens=100)\n",
        "print(output[0]['generated_text'])"
      ]
    },
    {
      "cell_type": "code",
      "execution_count": null,
      "metadata": {},
      "outputs": [],
      "source": [
        "# Interactive prompt testing\n",
        "custom_prompt = input('Enter your prompt: ')\n",
        "result = generator(custom_prompt, max_new_tokens=100)\n",
        "print(result[0]['generated_text'])"
      ]
    }
  ],
  "metadata": {
    "colab": {
      "name": "Test Tiny A11y LoRA Model",
      "provenance": []
    },
    "kernelspec": {
      "display_name": "Python 3",
      "language": "python",
      "name": "python3"
    },
    "language_info": {
      "name": "python"
    }
  },
  "nbformat": 4,
  "nbformat_minor": 5
}
