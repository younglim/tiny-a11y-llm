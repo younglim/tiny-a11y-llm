{
  "cells": [
    {
      "cell_type": "markdown",
      "metadata": {},
      "source": [
        "# Tiny A11y Model Fine-tune & Test Notebook\n",
        "This notebook fine-tunes DeepSeek-Coder on WCAG + MDN accessibility datasets and allows testing your LoRA model."
      ]
    },
    {
      "cell_type": "code",
      "execution_count": null,
      "metadata": {},
      "outputs": [],
      "source": [
        "# Install required packages\n",
        "!pip install --upgrade pip\n",
        "!pip install datasets transformers peft huggingface_hub accelerate"
      ]
    },
    {
      "cell_type": "code",
      "execution_count": null,
      "metadata": {},
      "outputs": [],
      "source": [
        "# Login to Hugging Face Hub\n",
        "from huggingface_hub import notebook_login\n",
        "notebook_login()  # Paste your token when prompted"
      ]
    },
    {
      "cell_type": "code",
      "execution_count": null,
      "metadata": {},
      "outputs": [],
      "source": [
        "# Load dataset from Hugging Face\n",
        "from datasets import load_dataset\n",
        "dataset = load_dataset('younglim/a11y-dataset', split='train')\n",
        "print(dataset[0])"
      ]
    },
    {
      "cell_type": "code",
      "execution_count": null,
      "metadata": {},
      "outputs": [],
      "source": [
        "# Load base model and tokenizer\n",
        "from transformers import AutoModelForCausalLM, AutoTokenizer\n",
        "from peft import LoraConfig, get_peft_model, PeftModel\n",
        "\n",
        "base_model_name = 'deepseek-ai/deepseek-coder-1.3b-instruct'\n",
        "tokenizer = AutoTokenizer.from_pretrained(base_model_name)\n",
        "base_model = AutoModelForCausalLM.from_pretrained(base_model_name)\n",
        "\n",
        "# LoRA config (for training, optional)\n",
        "peft_config = LoraConfig(r=8, lora_alpha=16, target_modules=['q_proj','v_proj'])\n",
        "model = get_peft_model(base_model, peft_config)"
      ]
    },
    {
      "cell_type": "code",
      "execution_count": null,
      "metadata": {},
      "outputs": [],
      "source": [
        "# Tokenize dataset\n",
        "def tokenize(example):\n",
        "    return tokenizer(example['text'], truncation=True, padding='max_length', max_length=512)\n",
        "\n",
        "dataset = dataset.map(tokenize, batched=True)"
      ]
    },
    {
      "cell_type": "code",
      "execution_count": null,
      "metadata": {},
      "outputs": [],
      "source": [
        "# Setup Trainer and TrainingArguments\n",
        "from transformers import Trainer, TrainingArguments\n",
        "\n",
        "training_args = TrainingArguments(\n",
        "    output_dir='./results',\n",
        "    per_device_train_batch_size=2,\n",
        "    num_train_epochs=1,\n",
        "    learning_rate=1e-4,\n",
        "    fp16=True,\n",
        "    push_to_hub=True,\n",
        "    hub_model_id='younglim/tiny-a11y-model'\n",
        ")\n",
        "\n",
        "trainer = Trainer(model=model, args=training_args, train_dataset=dataset)"
      ]
    },
    {
      "cell_type": "code",
      "execution_count": null,
      "metadata": {},
      "outputs": [],
      "source": [
        "# Start training\n",
        "trainer.train()"
      ]
    },
    {
      "cell_type": "code",
      "execution_count": null,
      "metadata": {},
      "outputs": [],
      "source": [
        "# Push the fine-tuned LoRA model to Hugging Face Hub\n",
        "trainer.push_to_hub()"
      ]
    },
    {
      "cell_type": "code",
      "execution_count": null,
      "metadata": {},
      "outputs": [],
      "source": [
        "# === TEST THE LoRA MODEL ===\n",
        "from transformers import AutoModelForCausalLM, AutoTokenizer\n",
        "from peft import PeftModel\n",
        "\n",
        "# Load base model and attach LoRA adapter\n",
        "base_model_name = 'deepseek-ai/deepseek-coder-1.3b-instruct'\n",
        "lora_model_name = 'younglim/tiny-a11y-model'\n",
        "\n",
        "tokenizer = AutoTokenizer.from_pretrained(base_model_name)\n",
        "base_model = AutoModelForCausalLM.from_pretrained(base_model_name)\n",
        "model = PeftModel.from_pretrained(base_model, lora_model_name)\n",
        "\n",
        "# Ensure pad token is set\n",
        "if tokenizer.pad_token is None:\n",
        "    tokenizer.pad_token = tokenizer.eos_token\n",
        "\n",
        "# Test prompt\n",
        "prompt = \"Explain why alt text is important for images.\"\n",
        "inputs = tokenizer(prompt, return_tensors='pt')\n",
        "outputs = model.generate(**inputs, max_new_tokens=150, pad_token_id=tokenizer.eos_token_id)\n",
        "print(tokenizer.decode(outputs[0], skip_special_tokens=True))"
      ]
    }
  ],
  "metadata": {
    "colab": {
      "name": "Tiny A11y Model Fine-tune & Test",
      "provenance": []
    },
    "kernelspec": {
      "display_name": "Python 3",
      "language": "python",
      "name": "python3"
    },
    "language_info": {
      "name": "python"
    }
  },
  "nbformat": 4,
  "nbformat_minor": 5
}
