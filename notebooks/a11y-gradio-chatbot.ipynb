{
  "cells": [
    {
      "cell_type": "markdown",
      "metadata": {},
      "source": [
        "# Tiny A11y LoRA Chatbot\n",
        "This notebook loads your LoRA fine-tuned `younglim/tiny-a11y-model` on DeepSeek-Coder and lets you chat interactively."
      ]
    },
    {
      "cell_type": "code",
      "execution_count": null,
      "metadata": {},
      "outputs": [],
      "source": [
        "# Install required packages\n",
        "!pip install --upgrade pip\n",
        "!pip install transformers accelerate peft gradio"
      ]
    },
   {
        "cell_type": "code",
        "metadata": {},
        "execution_count": null,
        "outputs": [],
        "source": [
          "# Load base model and tokenizer (FP16 + device_map for GPU)\n",
          "from transformers import AutoTokenizer, AutoModelForCausalLM\n",
          "from peft import PeftModelForCausalLM\n",
          "import torch\n",
          "\n",
          "base_model_name = 'deepseek-ai/deepseek-coder-1.3b-instruct'\n",
          "lora_model_name = 'younglim/tiny-a11y-model'\n",
          "\n",
          "# Load tokenizer\n",
          "tokenizer = AutoTokenizer.from_pretrained(base_model_name)\n",
          "\n",
          "# Load base model in FP16 on GPU\n",
          "base_model = AutoModelForCausalLM.from_pretrained(\n",
          "    base_model_name,\n",
          "    device_map='auto',        # automatically place layers on GPU\n",
          "    torch_dtype=torch.float16 # use half-precision for speed\n",
          ")\n",
          "\n",
          "# Load LoRA adapter\n",
          "model = PeftModelForCausalLM.from_pretrained(base_model, lora_model_name)\n",
          "\n",
          "# Ensure model is in eval mode\n",
          "model.eval()"
        ]
      },
     {
      "cell_type": "code",
      "metadata": {},
      "execution_count": null,
      "outputs": [],
      "source": [
        "# Chat function using optimized PyTorch generate\n",
        "def chat(prompt, max_new_tokens=200):\n",
        "    # Tokenize input and move to model device\n",
        "    inputs = tokenizer(prompt, return_tensors='pt').to(model.device)\n",
        "\n",
        "    # Generate output\n",
        "    with torch.no_grad():  # disable gradients for inference\n",
        "        outputs = model.generate(\n",
        "            **inputs,\n",
        "            max_new_tokens=max_new_tokens,\n",
        "            do_sample=True,\n",
        "            temperature=0.7,\n",
        "            top_p=0.9,\n",
        "            pad_token_id=tokenizer.eos_token_id\n",
        "        )\n",
        "\n",
        "    return tokenizer.decode(outputs[0], skip_special_tokens=True)\n",
        "\n"
      ]
    },
    {
      "cell_type": "code",
      "execution_count": null,
      "metadata": {},
      "outputs": [],
      "source": [
        "# Launch Gradio interface\n",
        "import gradio as gr\n",
        "\n",
        "iface = gr.Interface(\n",
        "    fn=chat,\n",
        "    inputs=gr.Textbox(lines=5, label='Enter your prompt'),\n",
        "    outputs=gr.Textbox(lines=15, label='Model response'),\n",
        "    title='Tiny A11y Chatbot',\n",
        "    description='Ask the Tiny A11y Model anything about accessibility.'\n",
        ")\n",
        "\n",
        "# Set share=True to get a public link\n",
        "iface.launch(share=True)"
      ]
    }
  ],
  "metadata": {
    "colab": {
      "name": "Tiny A11y LoRA Chatbot",
      "provenance": []
    },
    "kernelspec": {
      "display_name": "Python 3",
      "language": "python",
      "name": "python3"
    },
    "language_info": {
      "name": "python"
    }
  },
  "nbformat": 4,
  "nbformat_minor": 5
}
